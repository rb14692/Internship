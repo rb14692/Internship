{
 "cells": [
  {
   "cell_type": "code",
   "execution_count": 1,
   "id": "c9836553",
   "metadata": {},
   "outputs": [],
   "source": [
    "# Question no 11. Write a python program to find the factorial of a number."
   ]
  },
  {
   "cell_type": "code",
   "execution_count": null,
   "id": "b4a86b97",
   "metadata": {},
   "outputs": [],
   "source": [
    "# Answer no 11: Code Explanation. \n",
    "# The factorial of a number is the product of all the integers from 1 to that number.For example, the factorial of 6 (denoted as 6!) is 12345*6 = 720.\n",
    "# Factorial is not defined for negative numbers and the factorial of zero is one, 0! = 1.\n",
    "# In this programe we ask the user to input the number for which the factorial output is required.\n",
    "# Using input function which will return the number entered by user in intiger form by converting the same by frapping the user input around the \"int\" function then we will store that in a variable called \"num\" for example, num = int(input(\"Enter the number: \"))\n",
    "# if the number entered by the user is greater then 0 then for loop will iterate n times, for loop along with the range() function is used. \n",
    "# The arguments inside range function is used here as for i in range(num,1,-1): is used as python excludes last element\n"
   ]
  },
  {
   "cell_type": "code",
   "execution_count": 26,
   "id": "afa5ee98",
   "metadata": {
    "scrolled": true
   },
   "outputs": [
    {
     "name": "stdout",
     "output_type": "stream",
     "text": [
      "Enter the number: 6\n",
      "The factorial of 6 is 720\n"
     ]
    }
   ],
   "source": [
    "num = int(input(\"Enter the number: \"))\n",
    "factorial = 1\n",
    "# check if the number is negative, positive or zero\n",
    "if (num < 0):\n",
    "    print(\"Sorry, factorial does not exist for negative numbers\")\n",
    "elif (num == 0):\n",
    "    print(\"The factorial of 0 is 1\")\n",
    "else:\n",
    "    for i in range(num,1,-1):\n",
    "        factorial = factorial*i\n",
    "    print(\"The factorial of\",num,\"is\",factorial)"
   ]
  },
  {
   "cell_type": "code",
   "execution_count": null,
   "id": "4349cb80",
   "metadata": {},
   "outputs": [],
   "source": [
    "# Question no 12. Write a python program to find whether a number is prime or composite."
   ]
  },
  {
   "cell_type": "code",
   "execution_count": null,
   "id": "1157bc69",
   "metadata": {},
   "outputs": [],
   "source": [
    "# Answer no 12: Code Explanation.\n",
    "# Any natural number that is divisible by 1 and itself called Prime Number in Python. Prime number is not divisible by any other numbers except one and itself.\n",
    "# Prime Numbers are 2, 3, 5, 7, 11, 13, 17, 19, 23, 29, 31, 37, 41, 43, 47, 53, 59, 61, 67, 71, 73, 79, 83, 89, 97, 101, 103, 107, 109 etc\n",
    "# Any positive integer that can be formed by multiplying two smaller positive integers is called composite number. In other word, Composite number is a positive integer that has at least one divisor other than 1 and itself.\n",
    "# We can say that composite numbers are exactly the numbers that are not prime and not a unit.\n",
    "# Composite numbers are 4, 6, 8, 9, 10, 12, 14, 15, 16, 18, 20, 21, 22, 24, 25, 26, 27, 28, 30, 32, 33, 34, 35, 36, 38, 39, 40, 42, 44, 45, 46, 48, 49, 50, etc\n",
    "# Programe Logic: Take a any number from user using input method\n",
    "# Use if-elif statement to check number is zero or 1\n",
    "# If number is zero or one then given number is neither prime number nor composite number\n",
    "# If user entered number is negative number then program ask user to enter only positive number\n",
    "# If number is greater than one then only number can be either prime number or composite number\n",
    "# Use for loop to iterate through number\n",
    "# Use if statement within for loop to check number is prime number or composite number\n",
    "# If given condition is true then number is composite number otherwise prime number\n",
    "# Within the for loop, there is for statement to check whether the Number divisible by i is exactly equal to 0 or not. If the condition is True, then entered number is not prime number; it will be composite number and then break statement is  executed. If condition is false,then given number is prime number but not composite number."
   ]
  },
  {
   "cell_type": "code",
   "execution_count": 38,
   "id": "cbdf096b",
   "metadata": {},
   "outputs": [
    {
     "name": "stdout",
     "output_type": "stream",
     "text": [
      "Enter any number:2\n",
      "2 number is prime but not composite number\n"
     ]
    }
   ],
   "source": [
    "#Input a number and check if the number is prime or composite number\n",
    "n= int(input(\"Enter any number:\"))\n",
    "if(n ==0 or n == 1):\n",
    "    print(n,\"Number is neither prime nor composite\")\n",
    "elif n>1 :\n",
    "    for i in range(2,n):\n",
    "        if(n%i == 0):\n",
    "            print(n,\"is not prime but composite number\")\n",
    "            break\n",
    "    else:\n",
    "        print(n,\"number is prime but not composite number\")\n",
    "else :\n",
    "    print(\"Please enter positive number only \")"
   ]
  },
  {
   "cell_type": "code",
   "execution_count": null,
   "id": "57456f20",
   "metadata": {},
   "outputs": [],
   "source": [
    "# Question no 13. Write a python program to check whether a given string is palindrome or not"
   ]
  },
  {
   "cell_type": "code",
   "execution_count": null,
   "id": "e53a1ffd",
   "metadata": {},
   "outputs": [],
   "source": [
    "# Answer no 13: Code Explanation.\n",
    "# A palindrome is a word or a sentence that reads the same whether read from left to right or right to left. The palindrome Python program will check whether the string that is entered by the user is the same when read forward or backwards\n",
    "# As a specific condition needs to be checked, we will also require the if…else statement in the program\n",
    "# Here in the code, the first step is to ask the user to enter a string that they want to check if it is a palindrome or not\n",
    "# Next, the casefold () method is used to ensure the string is caseless. Thus, the character for capital A will be treated the same as a character of lowercase a. The casefold () method is used to return a string that is passed in the parameters in its lowercase version.  \n",
    "# Once the string is converted into lowercase, it will then be reversed from backwards to forward with the method reversed (). It is a built-in method that is available for strings in Python. to compare the original string with the reversed string, both will be converted into list form. \n",
    "# The list () function is used to convert the strings into list form. Then, the equal to, that is, the ‘==’ operator is used to compare elements of both the lists\n",
    "# If all the elements present in the lists are equal, then the program will print that the string provided by the user is a palindrome. If not, then the code will print that the string is not a palindrome. "
   ]
  },
  {
   "cell_type": "code",
   "execution_count": 55,
   "id": "d9d12631",
   "metadata": {},
   "outputs": [
    {
     "name": "stdout",
     "output_type": "stream",
     "text": [
      "Enter the string to check if it is a palindrome: \"MALAYALAM\"\n",
      "The string is a palindrome\n"
     ]
    }
   ],
   "source": [
    "str_1 = input (\"Enter the string to check if it is a palindrome: \")\n",
    "\n",
    "str_1 = str_1.casefold ()\n",
    "\n",
    "rev_str = reversed (str_1)\n",
    "\n",
    "if list (str_1) == list (rev_str):\n",
    "\n",
    "              print (\"The string is a palindrome\")\n",
    "\n",
    "else:\n",
    "\n",
    "              print (\"The string is not a palindrome\")"
   ]
  },
  {
   "cell_type": "code",
   "execution_count": null,
   "id": "96208c97",
   "metadata": {},
   "outputs": [],
   "source": [
    "# Question no 14. a Python program to get the third side of right-angled triangle from two given sides"
   ]
  },
  {
   "cell_type": "code",
   "execution_count": 56,
   "id": "ab1cd3c1",
   "metadata": {},
   "outputs": [],
   "source": [
    "# Answer no 14 : Code Explanation.\n",
    "# Hypotenuse calculator\n",
    "# The hypotenuse is opposite the right angle and can be solved by using the Pythagorean theorem.\n",
    "# In a right triangle with cathetus a and b and with hypotenuse c , Pythagoras' theorem states that: a² + b² = c².\n",
    "# To solve for c , take the square root of both sides to get c = √(b²+a²) \n",
    "# import math\n",
    "# a = float(input(\"Give side a: \"))\n",
    "# b = float(input(\"Give side b: \"))\n",
    "# c = math. sqrt(a ** 2 + b ** 2)\n",
    "# print(\"Hypotenuse =\", c)\n",
    "\n"
   ]
  },
  {
   "cell_type": "code",
   "execution_count": 57,
   "id": "d111d544",
   "metadata": {},
   "outputs": [
    {
     "name": "stdout",
     "output_type": "stream",
     "text": [
      "Enter base: 10.5\n",
      "Enter height: 5.5\n",
      "Enter angle: 60\n",
      "Hypotenuse = 11.853269591129697\n"
     ]
    }
   ],
   "source": [
    "import math\n",
    "\n",
    "a = float(input(\"Enter base: \"))\n",
    "b = float(input(\"Enter height: \"))\n",
    "x = float(input(\"Enter angle: \"))\n",
    "\n",
    "c = math.sqrt(a ** 2 + b ** 2)\n",
    "\n",
    "print(\"Hypotenuse =\", c)"
   ]
  },
  {
   "cell_type": "code",
   "execution_count": 58,
   "id": "5ff0fc4d",
   "metadata": {},
   "outputs": [],
   "source": [
    "# Question no 15. Write a python program to print the frequency of each of the characters present in a given string "
   ]
  },
  {
   "cell_type": "code",
   "execution_count": 59,
   "id": "aaaccc3d",
   "metadata": {},
   "outputs": [],
   "source": [
    "# Answer no 15: Code Explanation.\n",
    "# dict.get() method is used to check the previously occurring character in string, if its new, it assigns 0 as initial and appends 1 to it, else appends 1 to previously holded value of that element in dictionary.\n",
    "# each occurrence frequency using dict.get()\n",
    "# using dict.get() to get count of each element in string\n",
    "\n",
    " \n"
   ]
  },
  {
   "cell_type": "code",
   "execution_count": 71,
   "id": "a4e6ed44",
   "metadata": {},
   "outputs": [
    {
     "name": "stdout",
     "output_type": "stream",
     "text": [
      "Count of all characters in python is : \n",
      "{'P': 1, 'y': 1, 't': 1, 'h': 1, 'o': 1, 'n': 1}\n"
     ]
    }
   ],
   "source": [
    "# initializing string \n",
    "test_str = \"Python\"\n",
    "  \n",
    "# using dict.get() to get count \n",
    "# of each element in string \n",
    "res = {}\n",
    "  \n",
    "for keys in test_str:\n",
    "    res[keys] = res.get(keys, 0) + 1\n",
    "  \n",
    "# printing result \n",
    "print (\"Count of all characters in python is : \\n\" +  str(res))"
   ]
  },
  {
   "cell_type": "code",
   "execution_count": null,
   "id": "bf51d7e1",
   "metadata": {},
   "outputs": [],
   "source": []
  }
 ],
 "metadata": {
  "kernelspec": {
   "display_name": "Python 3 (ipykernel)",
   "language": "python",
   "name": "python3"
  },
  "language_info": {
   "codemirror_mode": {
    "name": "ipython",
    "version": 3
   },
   "file_extension": ".py",
   "mimetype": "text/x-python",
   "name": "python",
   "nbconvert_exporter": "python",
   "pygments_lexer": "ipython3",
   "version": "3.9.7"
  }
 },
 "nbformat": 4,
 "nbformat_minor": 5
}
